{
 "cells": [
  {
   "cell_type": "markdown",
   "metadata": {},
   "source": [
    "**Example 1**：重排后和变化"
   ]
  },
  {
   "cell_type": "markdown",
   "metadata": {},
   "source": [
    "$$\n",
    "\\sum_{n=1}^{\\infty} \\frac{(-1)^{n+1}}{n} = 1 - \\frac{1}{2} + \\frac{1}{3} - \\frac{1}{4} + \\frac{1}{5} - \\frac{1}{6} + \\frac{1}{7} - \\frac{1}{8} + \\cdots.\n",
    "$$"
   ]
  },
  {
   "cell_type": "code",
   "execution_count": 44,
   "metadata": {},
   "outputs": [],
   "source": [
    "def generate_alternating_harmonic_series():\n",
    "    n = 1\n",
    "    while True:\n",
    "        yield (-1) ** (n + 1) / n\n",
    "        n += 1"
   ]
  },
  {
   "cell_type": "code",
   "execution_count": 45,
   "metadata": {},
   "outputs": [],
   "source": [
    "s = generate_alternating_harmonic_series()"
   ]
  },
  {
   "cell_type": "code",
   "execution_count": 46,
   "metadata": {},
   "outputs": [
    {
     "name": "stdout",
     "output_type": "stream",
     "text": [
      "Partial sum of first 100 terms: 0.688172179310195\n"
     ]
    }
   ],
   "source": [
    "import itertools as it\n",
    "\n",
    "num_iterations = 100\n",
    "partial_sum = 0\n",
    "\n",
    "for x in it.islice(s, num_iterations):\n",
    "    partial_sum += x\n",
    "\n",
    "print(f\"Partial sum of first 100 terms: {partial_sum}\")"
   ]
  },
  {
   "cell_type": "markdown",
   "metadata": {},
   "source": [
    "重排为两项正一项负：\n",
    "\n",
    "$$\n",
    "1 + \\frac{1}{3} - \\frac{1}{2} + \\frac{1}{5} + \\frac{1}{7} - \\frac{1}{4} + \\frac{1}{9} + \\frac{1}{11} - \\frac{1}{6} + \\frac{1}{13} \\cdots\n",
    "$$"
   ]
  },
  {
   "cell_type": "code",
   "execution_count": 62,
   "metadata": {},
   "outputs": [],
   "source": [
    "def rearrange_alternating_series(s):\n",
    "    pos_gen1, pos_gen2, neg_gen = it.tee(s, 3)  # produce 3 independent generators\n",
    "    next(pos_gen2)\n",
    "    next(pos_gen2)    \n",
    "    n = 1\n",
    "    while True:\n",
    "        if n % 3 == 0:\n",
    "            next(neg_gen)\n",
    "            yield next(neg_gen)\n",
    "        elif n % 3 == 1:         \n",
    "            yield next(pos_gen1)\n",
    "            next(pos_gen1)\n",
    "            next(pos_gen1)            \n",
    "            next(pos_gen1)\n",
    "        else:         \n",
    "            yield next(pos_gen2)\n",
    "            next(pos_gen2)\n",
    "            next(pos_gen2)            \n",
    "            next(pos_gen2)            \n",
    "        n += 1"
   ]
  },
  {
   "cell_type": "code",
   "execution_count": 69,
   "metadata": {},
   "outputs": [],
   "source": [
    "s = generate_alternating_harmonic_series()\n",
    "rearranged_series = rearrange_alternating_series(s)"
   ]
  },
  {
   "cell_type": "code",
   "execution_count": 70,
   "metadata": {},
   "outputs": [
    {
     "name": "stdout",
     "output_type": "stream",
     "text": [
      "Partial sum of first 100 terms after rearrangement: 1.0397068506297484\n"
     ]
    }
   ],
   "source": [
    "num_iterations = 100\n",
    "partial_sum = 0\n",
    "\n",
    "for x in it.islice(rearranged_series, num_iterations):\n",
    "    partial_sum += x\n",
    "\n",
    "print(f\"Partial sum of first 100 terms after rearrangement: {partial_sum}\")    "
   ]
  },
  {
   "cell_type": "markdown",
   "metadata": {},
   "source": [
    "**Example 2** 重排后和不变"
   ]
  },
  {
   "cell_type": "markdown",
   "metadata": {},
   "source": [
    "$$\n",
    "\\sum_{n=0}^{\\infty}(-1/2)^n.\n",
    "$$"
   ]
  },
  {
   "cell_type": "code",
   "execution_count": 71,
   "metadata": {},
   "outputs": [],
   "source": [
    "def generate_geometric_series():\n",
    "    n = 0\n",
    "    while True:\n",
    "        yield (-1 / 2) ** n\n",
    "        n += 1"
   ]
  },
  {
   "cell_type": "code",
   "execution_count": 72,
   "metadata": {},
   "outputs": [
    {
     "name": "stdout",
     "output_type": "stream",
     "text": [
      "Partial sum of first 100 terms: 0.6666666666666667\n"
     ]
    }
   ],
   "source": [
    "s = generate_geometric_series()\n",
    "\n",
    "num_iterations = 100\n",
    "partial_sum = 0\n",
    "\n",
    "for x in it.islice(s, num_iterations):\n",
    "    partial_sum += x\n",
    "\n",
    "print(f\"Partial sum of first 100 terms: {partial_sum}\")"
   ]
  },
  {
   "cell_type": "markdown",
   "metadata": {},
   "source": [
    "重排为两项正一项负："
   ]
  },
  {
   "cell_type": "code",
   "execution_count": 73,
   "metadata": {},
   "outputs": [
    {
     "name": "stdout",
     "output_type": "stream",
     "text": [
      "Partial sum of first 100 terms after rearrangement: 0.6666666666666666\n"
     ]
    }
   ],
   "source": [
    "s = generate_geometric_series()\n",
    "rearranged_series = rearrange_alternating_series(s)\n",
    "\n",
    "num_iterations = 100\n",
    "partial_sum = 0\n",
    "\n",
    "for x in it.islice(rearranged_series, num_iterations):\n",
    "    partial_sum += x\n",
    "\n",
    "print(f\"Partial sum of first 100 terms after rearrangement: {partial_sum}\")    "
   ]
  },
  {
   "cell_type": "markdown",
   "metadata": {},
   "source": []
  }
 ],
 "metadata": {
  "kernelspec": {
   "display_name": "th_daily",
   "language": "python",
   "name": "th"
  },
  "language_info": {
   "codemirror_mode": {
    "name": "ipython",
    "version": 3
   },
   "file_extension": ".py",
   "mimetype": "text/x-python",
   "name": "python",
   "nbconvert_exporter": "python",
   "pygments_lexer": "ipython3",
   "version": "3.7.4"
  }
 },
 "nbformat": 4,
 "nbformat_minor": 4
}
